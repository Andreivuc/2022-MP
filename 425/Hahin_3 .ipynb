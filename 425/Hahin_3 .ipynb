{
 "cells": [
  {
   "cell_type": "code",
   "execution_count": 2,
   "id": "0e1693ca",
   "metadata": {},
   "outputs": [
    {
     "name": "stdout",
     "output_type": "stream",
     "text": [
      "len(\"Хахин Евгений Вячеславович\")%5 = 1 => Вариант 1: метод половинного деления\n",
      "Введите точность: 0.01\n",
      "Корень c1=2.239990234375\n"
     ]
    }
   ],
   "source": [
    "import sys\n",
    "\n",
    "sys.setrecursionlimit(50000000)\n",
    "\n",
    "print(f'{len(\"Хахин Евгений Вячеславович\")%5 = } => Вариант 1: метод половинного деления')\n",
    "# e = float(input(\"Input accuracy\"))\n",
    "e = float(input(\"Введите точность: \"))\n",
    "# a = float(input(\"L\"))\n",
    "a = 0.0\n",
    "b = 100.0\n",
    "c1 = 1\n",
    "\n",
    "def func(x):\n",
    "    return x**4-x**3-2*x*x-4\n",
    "\n",
    "\n",
    "def eps(b, a):\n",
    "    return abs(b - a)\n",
    "\n",
    "\n",
    "def c(b, a):\n",
    "    return ((b+a) / 2)\n",
    "\n",
    "\n",
    "def dihotomia(a, b, c1):\n",
    "    if func(a) * func(b) < 0:\n",
    "        if eps(b,a)>e:\n",
    "            if func(b)*func(c(b, a))<0:\n",
    "                a = c(b,a)\n",
    "                c1 = a\n",
    "                dihotomia(a, b, c1)\n",
    "            else:\n",
    "                b = c(b, a)\n",
    "                c1 = b\n",
    "                dihotomia(a, b, c1)\n",
    "        else:\n",
    "            print(f'Корень {c1=}')\n",
    "dihotomia(a, b, c1)\n"
   ]
  },
  {
   "cell_type": "code",
   "execution_count": null,
   "id": "db74dc1d",
   "metadata": {},
   "outputs": [],
   "source": []
  }
 ],
 "metadata": {
  "kernelspec": {
   "display_name": "Python 3 (ipykernel)",
   "language": "python",
   "name": "python3"
  },
  "language_info": {
   "codemirror_mode": {
    "name": "ipython",
    "version": 3
   },
   "file_extension": ".py",
   "mimetype": "text/x-python",
   "name": "python",
   "nbconvert_exporter": "python",
   "pygments_lexer": "ipython3",
   "version": "3.9.7"
  }
 },
 "nbformat": 4,
 "nbformat_minor": 5
}
