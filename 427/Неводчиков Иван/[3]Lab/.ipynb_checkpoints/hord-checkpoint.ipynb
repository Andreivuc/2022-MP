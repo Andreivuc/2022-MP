{
 "cells": [
  {
   "cell_type": "code",
   "execution_count": 1,
   "id": "e58ab0f7",
   "metadata": {},
   "outputs": [
    {
     "name": "stdout",
     "output_type": "stream",
     "text": [
      "Введите точность: 0.00001\n",
      "Корень: x = 1.416470853293582\n",
      "Количество итераций: n =  6\n",
      "Значнеие функции F(x) =  3.067617060370509e-06 \n",
      "\n"
     ]
    }
   ],
   "source": [
    "import numpy as np   \n",
    "e = 0.0001\n",
    "def f(x):\n",
    "    return np.log10(1+2*x)-2+x\n",
    "e = float(input(\"Введите точность: \"))\n",
    "def hord(a, b, e):\n",
    "    n = 0\n",
    "    root=None\n",
    "    if(f(a)*f(b)<0):\n",
    "        while abs(a-b)>e:\n",
    "            n+=1\n",
    "            c=a-f(a)*(b-a)/(f(b)-f(a))\n",
    "            if f(c)==0 or abs(f(c))<e:\n",
    "                root=c\n",
    "                break\n",
    "            elif f(a)*f(c)<0:\n",
    "                b=c\n",
    "            elif f(b)*f(c)<0:\n",
    "                a=c\n",
    "    if root is None:\n",
    "        print('Корень не найден')\n",
    "    else:\n",
    "        print(f'Корень: x = {root}')\n",
    "        print('Количество итераций: n = ', n)\n",
    "        print('Значнеие функции F(x) = ', f(root),'\\n')\n",
    "      \n",
    "\n",
    "hord(0, 2, e)"
   ]
  }
 ],
 "metadata": {
  "kernelspec": {
   "display_name": "Python 3 (ipykernel)",
   "language": "python",
   "name": "python3"
  },
  "language_info": {
   "codemirror_mode": {
    "name": "ipython",
    "version": 3
   },
   "file_extension": ".py",
   "mimetype": "text/x-python",
   "name": "python",
   "nbconvert_exporter": "python",
   "pygments_lexer": "ipython3",
   "version": "3.9.7"
  }
 },
 "nbformat": 4,
 "nbformat_minor": 5
}
