{
 "cells": [
  {
   "cell_type": "code",
   "execution_count": 6,
   "id": "3bae0c04",
   "metadata": {},
   "outputs": [
    {
     "name": "stdout",
     "output_type": "stream",
     "text": [
      "Введите точность вычисления для функции (2-x)*m.exp(x) : 0.0001\n",
      "Введите начальную координату: 2\n",
      "Введите конечную координату: 10\n",
      "x ~ 9.999969482421875\n"
     ]
    }
   ],
   "source": [
    "import numpy as np\n",
    "import math as m \n",
    "#Метод дихотомии\n",
    "E=float(input(\"Введите точность вычисления для функции (2-x)*m.exp(x) : \"))\n",
    "x0=float(input(\"Введите начальную координату: \"))\n",
    "x=float(input(\"Введите конечную координату: \"))\n",
    "def f(x):\n",
    "    return((2-x)*m.exp(x))\n",
    "while(abs(x-x0)>=E):\n",
    "    c=(x0+x)/2\n",
    "    if(f(a)*f(c)<0):\n",
    "        x0=c\n",
    "    if(f(x)*f(c)<0):\n",
    "        x0=c\n",
    "print (\"x ~\", (x0+x)/2)"
   ]
  },
  {
   "cell_type": "code",
   "execution_count": null,
   "id": "867c9f20",
   "metadata": {},
   "outputs": [],
   "source": []
  }
 ],
 "metadata": {
  "kernelspec": {
   "display_name": "Python 3 (ipykernel)",
   "language": "python",
   "name": "python3"
  },
  "language_info": {
   "codemirror_mode": {
    "name": "ipython",
    "version": 3
   },
   "file_extension": ".py",
   "mimetype": "text/x-python",
   "name": "python",
   "nbconvert_exporter": "python",
   "pygments_lexer": "ipython3",
   "version": "3.9.7"
  }
 },
 "nbformat": 4,
 "nbformat_minor": 5
}
